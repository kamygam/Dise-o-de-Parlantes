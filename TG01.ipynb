{
 "cells": [
  {
   "cell_type": "markdown",
   "id": "f0975157-d542-42ad-a825-bdc3d40ef02c",
   "metadata": {},
   "source": [
    "# Códigos para el Trabajo Grupal 1"
   ]
  },
  {
   "cell_type": "code",
   "execution_count": 1,
   "id": "ffc74c76-ee33-47cd-b0f4-eb8d7d741c7c",
   "metadata": {},
   "outputs": [],
   "source": [
    "R_E=15\n",
    "Q_MS=34\n",
    "R_MS=56\n",
    "w_s=35\n",
    "L_E=67\n",
    "BL=22\n",
    "w=345"
   ]
  },
  {
   "cell_type": "markdown",
   "id": "42257285-3fe6-455b-9a39-baf0f7adbd29",
   "metadata": {},
   "source": [
    "## Pregunta 2: Parámetros"
   ]
  },
  {
   "cell_type": "code",
   "execution_count": null,
   "id": "30e409ba-8173-4a4c-8bb9-c2accae5df46",
   "metadata": {},
   "outputs": [],
   "source": []
  },
  {
   "cell_type": "markdown",
   "id": "2c30b691-f915-4352-8c5c-6371be7a558a",
   "metadata": {},
   "source": [
    "## Pregunta 3: Impedancia eléctrica"
   ]
  },
  {
   "cell_type": "code",
   "execution_count": 5,
   "id": "c15c5f35-96d8-4fa9-ae75-f41a99383c3f",
   "metadata": {},
   "outputs": [
    {
     "data": {
      "text/plain": [
       "(15.000078555980043+23114.97394348561j)"
      ]
     },
     "execution_count": 5,
     "metadata": {},
     "output_type": "execute_result"
    }
   ],
   "source": [
    "Z_E=R_E+(1j*w*L_E)+((((BL)**2)/R_MS)*(1j*w/(w_s*Q_MS))/(1-(w/w_s)**2+(1j*w/(w_s*Q_MS))))\n",
    "Z_E"
   ]
  },
  {
   "cell_type": "code",
   "execution_count": null,
   "id": "36697a8b-de3b-4ffd-be7f-bf2f6312a571",
   "metadata": {},
   "outputs": [],
   "source": []
  }
 ],
 "metadata": {
  "kernelspec": {
   "display_name": "uach",
   "language": "python",
   "name": "uach"
  },
  "language_info": {
   "codemirror_mode": {
    "name": "ipython",
    "version": 3
   },
   "file_extension": ".py",
   "mimetype": "text/x-python",
   "name": "python",
   "nbconvert_exporter": "python",
   "pygments_lexer": "ipython3",
   "version": "3.10.13"
  }
 },
 "nbformat": 4,
 "nbformat_minor": 5
}
